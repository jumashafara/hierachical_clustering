{
 "cells": [
  {
   "cell_type": "code",
   "execution_count": 32,
   "id": "ec18c9c8",
   "metadata": {},
   "outputs": [],
   "source": [
    "import pandas as pd\n",
    "import matplotlib.pyplot as plt"
   ]
  },
  {
   "cell_type": "code",
   "execution_count": null,
   "id": "b5093789",
   "metadata": {},
   "outputs": [],
   "source": [
    "df = pd.read_csv(r\"F:\\PlanMyWork\\YEAR 3 SEM 2\\Data Mining\\Dataset\\USCensus1990.data.txt\", sep = \",\")"
   ]
  },
  {
   "cell_type": "code",
   "execution_count": 33,
   "id": "181d3fd4",
   "metadata": {},
   "outputs": [
    {
     "data": {
      "text/plain": [
       "(2458285, 69)"
      ]
     },
     "execution_count": 33,
     "metadata": {},
     "output_type": "execute_result"
    }
   ],
   "source": [
    "df.shape"
   ]
  },
  {
   "cell_type": "code",
   "execution_count": 34,
   "id": "1ef3ff4c",
   "metadata": {},
   "outputs": [
    {
     "data": {
      "text/plain": [
       "2"
      ]
     },
     "execution_count": 34,
     "metadata": {},
     "output_type": "execute_result"
    }
   ],
   "source": [
    "df.ndim"
   ]
  },
  {
   "cell_type": "markdown",
   "id": "6d9c24d1",
   "metadata": {},
   "source": [
    "## Performing the herachical clustering"
   ]
  },
  {
   "cell_type": "code",
   "execution_count": 35,
   "id": "f080ed52",
   "metadata": {},
   "outputs": [],
   "source": [
    "from scipy.cluster.hierarchy import dendrogram, linkage\n",
    "from sklearn.cluster import AgglomerativeClustering\n",
    "from sklearn.datasets import make_blobs"
   ]
  },
  {
   "cell_type": "code",
   "execution_count": 36,
   "id": "65d1d367",
   "metadata": {},
   "outputs": [],
   "source": [
    "df2 = make_blobs(n_samples = 400, n_features = 4, centers = 8, cluster_std = 1.6, random_state = 100)"
   ]
  },
  {
   "cell_type": "code",
   "execution_count": 37,
   "id": "e10dc891",
   "metadata": {},
   "outputs": [],
   "source": [
    "points = df2[0]"
   ]
  },
  {
   "cell_type": "code",
   "execution_count": null,
   "id": "9765df0a",
   "metadata": {},
   "outputs": [],
   "source": []
  },
  {
   "cell_type": "code",
   "execution_count": 38,
   "id": "26095be5",
   "metadata": {},
   "outputs": [
    {
     "data": {
      "image/png": "[encoded data removed]",
      "text/plain": [
       "<Figure size 432x288 with 1 Axes>"
      ]
     },
     "metadata": {
      "needs_background": "light"
     },
     "output_type": "display_data"
    }
   ],
   "source": [
    "dendrogram = dendrogram(linkage(points, method = \"ward\"))"
   ]
  },
  {
   "cell_type": "code",
   "execution_count": null,
   "id": "e90726df",
   "metadata": {},
   "outputs": [],
   "source": []
  }
 ],
 "metadata": {
  "kernelspec": {
   "display_name": "Python 3 (ipykernel)",
   "language": "python",
   "name": "python3"
  },
  "language_info": {
   "codemirror_mode": {
    "name": "ipython",
    "version": 3
   },
   "file_extension": ".py",
   "mimetype": "text/x-python",
   "name": "python",
   "nbconvert_exporter": "python",
   "pygments_lexer": "ipython3",
   "version": "3.9.7"
  }
 },
 "nbformat": 4,
 "nbformat_minor": 5
}
